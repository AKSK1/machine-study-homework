{
 "cells": [
  {
   "cell_type": "code",
   "execution_count": 12,
   "metadata": {},
   "outputs": [
    {
     "name": "stdout",
     "output_type": "stream",
     "text": [
      "0.5369518160647323\n"
     ]
    }
   ],
   "source": [
    "#HMM三选一作业第一题\n",
    "#胡庆隆\n",
    "#学号：201700171018\n",
    "\n",
    "\n",
    "\n",
    "import numpy as np\n",
    "\n",
    "class HMM():    \n",
    "    def __init__(self,A,B,Pi,Ot):\n",
    "        self.A=A\n",
    "        self.B=B\n",
    "        self.Pi=Pi\n",
    "        self.N=np.shape(A)[0]\n",
    "        self.M=np.shape(B)[1]\n",
    "        self.O = Ot\n",
    "        self.T=len(self.O)\n",
    "        self.alpha = np.zeros((self.T,self.N))\n",
    "        self.beita=np.zeros((self.T,self.N))\n",
    "    \n",
    "    def forward(self):     #前向算法\n",
    "        \n",
    "        for i in range(self.N):\n",
    "            self.alpha[0][i]=self.Pi[i]*self.B[i][self.O[0]]\n",
    "           \n",
    "        \n",
    "        for t in range(1,self.T):\n",
    "            for i in range(self.N): \n",
    "                sumj=0\n",
    "                for j in range(self.N):\n",
    "                    sumj += self.alpha[t-1][j]*self.A[j][i]\n",
    "                self.alpha[t][i]= sumj*self.B[i][self.O[t]]\n",
    "    \n",
    "    def backward(self):     #后向算法\n",
    "        self.beita=np.zeros((self.T,self.N))\n",
    "        for i in range(self.N):\n",
    "            self.beita[self.T-1][i]=1.0\n",
    "       \n",
    "        for t in range(self.T-2,-1,-1):    \n",
    "            for i in range(self.N):              \n",
    "                for j in range(self.N):\n",
    "                    self.beita[t][i] += self.A[i][j]*self.B[j][self.O[t+1]]*self.beita[t+1][j]\n",
    "                    \n",
    "        \n",
    "        \n",
    "    def qi_probability(self,t,i):  #给定A，B，Pi和观测O，在t时刻处于状态qi的概率\n",
    "        \n",
    "        t=t-1         #矩阵的位置为原数字减1\n",
    "        i=i-1\n",
    "        mutlip=self.alpha[t][i]*self.beita[t][i]\n",
    "        sumab=0\n",
    "        for j in range(self.N):\n",
    "            sumab += self.alpha[t][j]*self.beita[t][j]\n",
    "        return mutlip/sumab    \n",
    "\n",
    "A=[[0.5,0.1,0.4],[0.3,0.5,0.2],[0.2,0.2,0.6]]   #定义A，B，Pi，和O\n",
    "B=[[0.5,0.5],[0.4,0.6],[0.7,0.3]]\n",
    "Pi=[0.2,0.3,0.5]\n",
    "\n",
    "\n",
    "Ot=[0,1,0,0,1,0,1,1]\n",
    "\n",
    "hmm=HMM(A,B,Pi,Ot)                #输入A，B，Pi，和O\n",
    "hmm.forward()                     #运行前向产生alpha\n",
    "hmm.backward()                    #运行后向产生beta\n",
    "\n",
    "answer=hmm.qi_probability(4,3)    #输入t，i\n",
    "print(answer)                     #输出结果\n",
    "        "
   ]
  },
  {
   "cell_type": "code",
   "execution_count": null,
   "metadata": {},
   "outputs": [],
   "source": []
  },
  {
   "cell_type": "code",
   "execution_count": null,
   "metadata": {},
   "outputs": [],
   "source": []
  },
  {
   "cell_type": "code",
   "execution_count": null,
   "metadata": {},
   "outputs": [],
   "source": []
  }
 ],
 "metadata": {
  "kernelspec": {
   "display_name": "Python 3",
   "language": "python",
   "name": "python3"
  },
  "language_info": {
   "codemirror_mode": {
    "name": "ipython",
    "version": 3
   },
   "file_extension": ".py",
   "mimetype": "text/x-python",
   "name": "python",
   "nbconvert_exporter": "python",
   "pygments_lexer": "ipython3",
   "version": "3.7.6"
  }
 },
 "nbformat": 4,
 "nbformat_minor": 4
}
